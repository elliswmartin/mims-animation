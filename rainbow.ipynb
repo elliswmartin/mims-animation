{
 "cells": [
  {
   "cell_type": "code",
   "execution_count": 1,
   "id": "51758c1c",
   "metadata": {},
   "outputs": [],
   "source": [
    "import turtle\n",
    "import time\n",
    "from turtle import hideturtle, bgcolor, reset, Screen, setheading \n",
    "from helpers import no_delay, setup \n",
    "from parts import move_rainbow, drawRays, draw_circle, draw_cloud\n",
    "\n",
    "screen = Screen()\n",
    "screen.setup(1000, 1000) \n",
    "reset()\n",
    "hideturtle()\n",
    "\n",
    "LENGTH = 100\n",
    "RADIUS = 100\n",
    "\n",
    "START_X = -1000\n",
    "START_Y = -200\n",
    "NUM_FRAMES = 150\n",
    "SLEEPTIME = 0.04\n",
    "x1=200\n",
    "y1=200\n",
    "size1=30\n",
    "x2=235\n",
    "y2=200\n",
    "size2=40\n",
    "x3=270\n",
    "y3=200\n",
    "size3=50\n",
    "x4=305\n",
    "y4=200\n",
    "size4=30\n",
    "height=10\n",
    "\n",
    "for i in range(5):\n",
    "    with no_delay():\n",
    "        if i == 0:\n",
    "            for j in range(100):\n",
    "                bgcolor(\"midnight blue\")\n",
    "                draw_cloud(x1,y1,size1,x2,y2,size2,x3,y3,size3,x4,y4,size4,height)\n",
    "                setheading(0)\n",
    "        if i == 1:\n",
    "            bgcolor(\"dark blue\")\n",
    "            move_rainbow(START_X, START_Y, NUM_FRAMES, screen, SLEEPTIME)\n",
    "        if i == 2:\n",
    "            bgcolor(\"medium blue\")\n",
    "            move_rainbow(START_X, START_Y, NUM_FRAMES, screen, SLEEPTIME)\n",
    "        if i == 3:\n",
    "            bgcolor(\"cornflower blue\")\n",
    "            move_rainbow(START_X, START_Y, NUM_FRAMES, screen, SLEEPTIME)\n",
    "        if i == 4:\n",
    "            bgcolor(\"light sky blue\")\n",
    "            drawRays(LENGTH, RADIUS) \n",
    "            draw_circle(RADIUS)"
   ]
  },
  {
   "cell_type": "code",
   "execution_count": null,
   "id": "586636da",
   "metadata": {},
   "outputs": [],
   "source": []
  }
 ],
 "metadata": {
  "kernelspec": {
   "display_name": "Python 3 (ipykernel)",
   "language": "python",
   "name": "python3"
  },
  "language_info": {
   "codemirror_mode": {
    "name": "ipython",
    "version": 3
   },
   "file_extension": ".py",
   "mimetype": "text/x-python",
   "name": "python",
   "nbconvert_exporter": "python",
   "pygments_lexer": "ipython3",
   "version": "3.10.6"
  }
 },
 "nbformat": 4,
 "nbformat_minor": 5
}
